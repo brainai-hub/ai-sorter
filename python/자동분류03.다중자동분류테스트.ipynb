{
 "cells": [
  {
   "cell_type": "markdown",
   "metadata": {},
   "source": [
    "#### 아래 내용은 Intel® AI for Youth 프로그램을 참고하여\n",
    "BrainAI와 BrainAI Coach Network에서 개발한 내용입니다.<br> \n",
    "상업적 사용은 불가하며 교육기관 및 학교에서 학생들 교육활동에 자유롭게 사용가능합니다."
   ]
  },
  {
   "cell_type": "markdown",
   "metadata": {},
   "source": [
    "# 프로젝트 제목: 다중자동분류 테스트\n",
    "구글 Teachable Machine에서 개발한 AI 모델을 활용하여 M&M 초콜릿을 6가지 Color로 자동 분류하는 파이썬 프로그램 작성하기"
   ]
  },
  {
   "cell_type": "markdown",
   "metadata": {},
   "source": [
    "### Task 1. 필요 라이브러리 불러오기"
   ]
  },
  {
   "cell_type": "code",
   "execution_count": 1,
   "metadata": {},
   "outputs": [
    {
     "name": "stdout",
     "output_type": "stream",
     "text": [
      "프로젝트 수행에 필요한 라이브러리를 모두 불러왔습니다.\n"
     ]
    }
   ],
   "source": [
    "import cv2\n",
    "import numpy as np\n",
    "import time\n",
    "import tensorflow.keras\n",
    "from tensorflow.keras.models import model_from_json\n",
    "\n",
    "import serial\n",
    "import serial.tools.list_ports\n",
    "print(\"프로젝트 수행에 필요한 라이브러리를 모두 불러왔습니다.\")"
   ]
  },
  {
   "cell_type": "markdown",
   "metadata": {
    "tags": []
   },
   "source": [
    "### Task 2. Teachable Machine에서 개발한 모델(model)과 클래스(label) 불러오기 함수 작성"
   ]
  },
  {
   "cell_type": "code",
   "execution_count": 2,
   "metadata": {},
   "outputs": [],
   "source": [
    "def loadModel(): \n",
    "    model = tensorflow.keras.models.load_model('model/keras_model.h5', compile = False) \n",
    "    labels = []\n",
    "    file = open(\"model/labels.txt\", \"r\")\n",
    "    for x in file:\n",
    "        labels.append(x.rstrip('\\n'))\n",
    "    print('labels = ', labels)\n",
    "    file.close()\n",
    "    return model, labels"
   ]
  },
  {
   "cell_type": "markdown",
   "metadata": {
    "tags": []
   },
   "source": [
    "### Task 3. 새로운 이미지 데이터(M&M 초콜릿) Color 예측하기 함수 작성"
   ]
  },
  {
   "cell_type": "code",
   "execution_count": 3,
   "metadata": {},
   "outputs": [],
   "source": [
    "def ReadPicture(cropped, model):   \n",
    "    \n",
    "    input_width = 224\n",
    "    input_height = 224\n",
    "\n",
    "    resized_image = cv2.resize(cropped, (input_width, input_height))\n",
    "    imgRGB =cv2.cvtColor(resized_image, cv2.COLOR_BGR2RGB)\n",
    "    \n",
    "    normalized_image = (imgRGB.astype(np.float32) / 127.0) - 1\n",
    "    batch = normalized_image.reshape(1, input_height, input_width, 3)\n",
    "\n",
    "    prediction = model.predict(batch) \n",
    "\n",
    "    class_id = np.argmax(prediction)\n",
    "    score = np.max(prediction) \n",
    "    \n",
    "    return class_id, score"
   ]
  },
  {
   "cell_type": "markdown",
   "metadata": {
    "tags": []
   },
   "source": [
    "### Task 4. 마이크로비트 연결 포트 자동 찾기 함수 작성"
   ]
  },
  {
   "cell_type": "code",
   "execution_count": 4,
   "metadata": {},
   "outputs": [],
   "source": [
    "def startSerial(serial_on):\n",
    "    ser = None\n",
    "    if serial_on == True:\n",
    "        ports = serial.tools.list_ports.comports()\n",
    "        com = ''\n",
    "        print('\\n -- Microbit --')\n",
    "        for port, desc, hwid in sorted(ports):\n",
    "            if 'USB' in desc:\n",
    "                com = port # 포트 값을 가져와 com변수에 저장\n",
    "        if com != '':\n",
    "            print('Microbit USB detected: ', com)\n",
    "            ser = serial.Serial(com, 115200 ,  # 마이크로비트 전송 속도와 일치\n",
    "                                timeout=0, \n",
    "                                parity=serial.PARITY_NONE, \n",
    "                                rtscts=0) \n",
    "        else:\n",
    "            print('No Microbit USB detected')\n",
    "    return ser"
   ]
  },
  {
   "cell_type": "markdown",
   "metadata": {
    "tags": []
   },
   "source": [
    "### Task 5. 마이크로비트에 시리얼 통신으로 명령 보내기 함수 작성\n",
    "마이크로비트 코드의 전송 속도(115200)를 확인한다."
   ]
  },
  {
   "cell_type": "code",
   "execution_count": 5,
   "metadata": {
    "tags": []
   },
   "outputs": [],
   "source": [
    "def SerialSendCommand(cmd, ser, serial_on):\n",
    "    if serial_on == True:  #serial 통신을 사용한다면\n",
    "        cmd = str(cmd) \n",
    "        cmd  = cmd + '\\n'\n",
    "        cmd = str.encode(cmd) \n",
    "        ser.write(cmd)"
   ]
  },
  {
   "cell_type": "markdown",
   "metadata": {},
   "source": [
    "### Task 6. Main 함수 작성"
   ]
  },
  {
   "cell_type": "code",
   "execution_count": 14,
   "metadata": {},
   "outputs": [],
   "source": [
    "def Main():\n",
    "    video_capture = cv2.VideoCapture(video)\n",
    "    tic = time.time()\n",
    "    \n",
    "    # ---- 영상안에 p 눌러 시작하는 텍스트 출력 ---- #    \n",
    "    color_p  = (0, 0, 255)\n",
    "    text = \"Press [p] to start\"\n",
    "    print(text)\n",
    "    color_result = (255, 0, 0)\n",
    "    result = \"Wait... \"\n",
    "        \n",
    "    # ---- 불러온 영상 크기 값 저장 ---- #    \n",
    "    height = video_capture.get(cv2.CAP_PROP_FRAME_HEIGHT)\n",
    "    width = video_capture.get(cv2.CAP_PROP_FRAME_WIDTH)\n",
    "    \n",
    "    # ---- 영상에서 매개 변수 top, bottom 값을 이용하여 관심 영역 설정 ---- #   \n",
    "    y1 = int(height - (height * top))\n",
    "    y2 = int(height - (height * bottom))\n",
    "    square = (y2-y1)/2\n",
    "    x1 = int(width/2 - square)\n",
    "    x2 = int(width/2 + square)\n",
    "    \n",
    "    # ---- MODE를 이용하여 실행, 멈춤을 컨트롤 ---- #\n",
    "    MODE_PAUSE = -1 \n",
    "    MODE_START = 0\n",
    "    mode_status = MODE_PAUSE\n",
    "\n",
    "    # ---- 시리얼 통신 값 저장 ----#\n",
    "    ser = startSerial(serial_on)\n",
    "    # ---- Teachable Machine에서 개발한 모델(model)과 클래스(label) 불러오기 실행 ----#\n",
    "    model, labels = loadModel()\n",
    "        \n",
    "    while(True):\n",
    "        grabbed, frame = video_capture.read()\n",
    "        frame = cv2.flip(frame, 1)\n",
    "        \n",
    "        # ---- 관심 영역을 변수 cropped에 저장  ---- #\n",
    "        cropped = frame[y1:y2, x1:x2]\n",
    "        # ---- 영상에 관심 영역 박스 그리기  ---- #\n",
    "        cv2.rectangle(frame, (x1,y1), (x2,y2), color_p, 2)\n",
    "        # ---- 영상에 텍스트(text변수에 저장된 값) 출력 하기  ---- #\n",
    "        cv2.putText(frame, text, (50,50), cv2.FONT_HERSHEY_SIMPLEX, 1, color_p, 1)\n",
    "        # ---- 영상에 텍스트(result변수에 저장된 값) 출력 하기  ---- #\n",
    "        cv2.putText(frame, result, (350,70), cv2.FONT_HERSHEY_SIMPLEX, 1.5, color_result, 2)  \n",
    "\n",
    "        # ---- 모델을 활용한 예측 실행  ---- #\n",
    "        if mode_status == MODE_START and time.time() - tic > timeDelay: # 3초마다 예측 실행\n",
    "            cv2.imshow(\"cropped\", cropped)\n",
    "            # 예측 실행하여 결과 저장하기\n",
    "            class_id, score = ReadPicture(cropped, model)   \n",
    "            print(\"Class:\", class_id)\n",
    "            print(\"Confidence:\", score)\n",
    "\n",
    "            # 결과 출력하기\n",
    "            result = labels[class_id][2:] + ' ' + str(int(score*100)) + '%'\n",
    "            result_text = 'AI 예측 결과는  ' + labels[class_id][2:] + ' ' + str(int(score*100)) + '%' + '입니다'\n",
    "            print(result_text)\n",
    "            tic = time.time()\n",
    "            \n",
    "            # ---- 60%이상 정확하면 시리얼 통신을 통해 다중자동분류기에 있는 마이크로비트에 명령 보내기 ---- #                \n",
    "            if score >= .6:\n",
    "                cmd = labels[class_id][0]\n",
    "                SerialSendCommand(cmd, ser, serial_on)\n",
    "        \n",
    "        cv2.rectangle(frame, (x1,y1), (x2,y2), color_p, 2)      \n",
    "        cv2.putText(frame, text, (50,50), cv2.FONT_HERSHEY_SIMPLEX, 1, color_p, 2)  \n",
    "        cv2.imshow(\"Frame\", frame) \n",
    "        \n",
    "        key = cv2.waitKey(1)\n",
    "           \n",
    "        if key == ord(\"q\"):\n",
    "            break\n",
    "             \n",
    "        elif key == ord('p'):\n",
    "            if mode_status != MODE_PAUSE:\n",
    "                mode_status = MODE_PAUSE       \n",
    "                color = (0, 0, 255)\n",
    "                text = \"Press 'p' to start\"\n",
    "\n",
    "            elif mode_status == MODE_PAUSE:\n",
    "                mode_status = MODE_START\n",
    "                color = (0, 255, 0)\n",
    "                text = \"Press 'p' to pause\"\n",
    "\n",
    "        elif key != -1:\n",
    "            cmd = chr(key)\n",
    "            text = cmd\n",
    "            SerialSendCommand(cmd, ser, serial_on)\n",
    "\n",
    "    # ---- 프로그램 종료시 마이크로비트 사용 포트를 닫는다. ---- #                \n",
    "    if serial_on == True:\n",
    "        ser.close()\n",
    "        \n",
    "    video_capture.release()\n",
    "    cv2.destroyAllWindows()"
   ]
  },
  {
   "cell_type": "markdown",
   "metadata": {},
   "source": [
    "### Task 7. 설정 값 변경 및 프로그램 실행"
   ]
  },
  {
   "cell_type": "code",
   "execution_count": 15,
   "metadata": {},
   "outputs": [
    {
     "name": "stdout",
     "output_type": "stream",
     "text": [
      "Press [p] to start\n",
      "\n",
      " -- Microbit --\n",
      "Microbit USB detected:  COM3\n",
      "labels =  ['0 None', '1 Red', '2 Orange', '3 Yellow', '4 Green', '5 Blue', '6 Brown']\n",
      "Class: 0\n",
      "Confidence: 0.85002166\n",
      "AI 예측 결과는  None 85%입니다\n",
      "Class: 0\n",
      "Confidence: 0.6863565\n",
      "AI 예측 결과는  None 68%입니다\n"
     ]
    }
   ],
   "source": [
    "video = 0 #노트북 built in 웹캠, 외부 연결 웹캠인 경우 1로 수정\n",
    "timeDelay = 3\n",
    "\n",
    "#---- 관심 영역 설정 값 ----#\n",
    "top = .65\n",
    "bottom = .4\n",
    "\n",
    "# 마이크로비트 없이 실행 가능: serial_on = False, 다중자동분류기 마이크로비트에 연결하여 작동시: serial_on = True\n",
    "serial_on = True \n",
    "\n",
    "#---- 프로그램 실행 ----#\n",
    "if __name__ == '__main__': \n",
    "    Main()"
   ]
  },
  {
   "cell_type": "code",
   "execution_count": null,
   "metadata": {},
   "outputs": [],
   "source": []
  }
 ],
 "metadata": {
  "kernelspec": {
   "display_name": "Python 3 (ipykernel)",
   "language": "python",
   "name": "python3"
  },
  "language_info": {
   "codemirror_mode": {
    "name": "ipython",
    "version": 3
   },
   "file_extension": ".py",
   "mimetype": "text/x-python",
   "name": "python",
   "nbconvert_exporter": "python",
   "pygments_lexer": "ipython3",
   "version": "3.8.16"
  }
 },
 "nbformat": 4,
 "nbformat_minor": 4
}
