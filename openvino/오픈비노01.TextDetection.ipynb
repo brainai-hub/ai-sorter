{
 "cells": [
  {
   "cell_type": "markdown",
   "id": "e3daf1fc-e282-4a88-a9b3-7648df69a3af",
   "metadata": {},
   "source": [
    "#### 아래 내용은 Intel® AI for Youth 프로그램을 참고하여\n",
    "BrainAI와 BrainAI Coach Network에서 개발한 내용입니다.<br> \n",
    "상업적 사용은 불가하며 교육기관 및 학교에서 학생들 교육활동에 자유롭게 사용가능합니다."
   ]
  },
  {
   "cell_type": "markdown",
   "id": "c2a3cd98-115b-4565-b37f-1f63c2b3889e",
   "metadata": {},
   "source": [
    "# 프로젝트 제목: 텍스트 인식 테스트\n",
    "인텔 오픈비노(OpenVINO) 텍스트 추출 모델을 활용하여 추출한 텍스트를 텍스트 인식 모델을 활용하여 읽어내는 파이썬 프로그램 작성하기"
   ]
  },
  {
   "cell_type": "markdown",
   "id": "231614f6-6bcc-4442-9ee4-a2208f98a2cc",
   "metadata": {},
   "source": [
    "### Task 1. 필요 라이브러리 불러오기"
   ]
  },
  {
   "cell_type": "code",
   "execution_count": 4,
   "id": "6a11ef4a",
   "metadata": {},
   "outputs": [],
   "source": [
    "import cv2\n",
    "import time\n",
    " \n",
    "from utils import sorter_brain as sBrain"
   ]
  },
  {
   "cell_type": "markdown",
   "id": "bd0eab4d-8a2b-4d9b-9ce2-6dbe07646792",
   "metadata": {},
   "source": [
    "### Task 2. Main 함수 작성"
   ]
  },
  {
   "cell_type": "code",
   "execution_count": 5,
   "id": "429619a4-5b79-482e-8620-f6ae94e7edb9",
   "metadata": {
    "tags": []
   },
   "outputs": [],
   "source": [
    "def Main():\n",
    "    \n",
    "    color = (0, 0, 255)\n",
    "    tic = time.time()\n",
    "      \n",
    "    video_capture = cv2.VideoCapture(video)\n",
    "    video_capture.set(cv2.CAP_PROP_BUFFERSIZE, 0)\n",
    "    \n",
    "    # ----- 오픈비노 텍스트 추출 모델 ----- #\n",
    "    text_model = sBrain.Text_Model() #코드\n",
    "    words = []\n",
    "    # ----- ----- #\n",
    "    \n",
    "    while(True): \n",
    "        \n",
    "        grabbed, frame = video_capture.read()\n",
    "        if not grabbed:\n",
    "            break\n",
    "        \n",
    "        # ----- 오픈비노 텍스트 추출 예측 ----- #\n",
    "        text_boxes, _ = text_model.predictions(frame)             \n",
    "        if text_boxes:\n",
    "            text_model.draw(text_boxes, words, frame)  \n",
    "        # ----- ----- #\n",
    "           \n",
    "        key = cv2.waitKey(1);   \n",
    "        if key == ord('q'):\n",
    "                break\n",
    "                \n",
    "        cv2.imshow('BrainAI Text Dection', frame)\n",
    "\n",
    "    video_capture.release()\n",
    "    cv2.destroyAllWindows()"
   ]
  },
  {
   "cell_type": "markdown",
   "id": "3e09c44b-cdbe-4495-b2b4-da5f6a61de25",
   "metadata": {},
   "source": [
    "### Task 3. 설정 값 변경 및 프로그램 실행"
   ]
  },
  {
   "cell_type": "code",
   "execution_count": 6,
   "id": "713a8331",
   "metadata": {
    "scrolled": true
   },
   "outputs": [
    {
     "name": "stdout",
     "output_type": "stream",
     "text": [
      "-- Models --\n",
      "Loading: horizontal-text-detection-0001\n",
      "Input layer shape: [1,3,704,704]\n",
      "Cannot print out layer shapes \n",
      "\n",
      "Loading: text-recognition-0014\n",
      "Input layer shape: [1,1,32,128]\n",
      "Output layer shape: [16,1,37] \n",
      "\n"
     ]
    }
   ],
   "source": [
    "video = 0  \n",
    "\n",
    "if __name__ == '__main__': \n",
    "    Main()     "
   ]
  },
  {
   "cell_type": "code",
   "execution_count": null,
   "id": "44cc5306-cb54-49cf-bd80-372c67ab1072",
   "metadata": {},
   "outputs": [],
   "source": []
  },
  {
   "cell_type": "code",
   "execution_count": null,
   "id": "353e60ab-0a41-417b-98cd-46bb486ff4df",
   "metadata": {},
   "outputs": [],
   "source": []
  }
 ],
 "metadata": {
  "kernelspec": {
   "display_name": "Python 3 (ipykernel)",
   "language": "python",
   "name": "python3"
  },
  "language_info": {
   "codemirror_mode": {
    "name": "ipython",
    "version": 3
   },
   "file_extension": ".py",
   "mimetype": "text/x-python",
   "name": "python",
   "nbconvert_exporter": "python",
   "pygments_lexer": "ipython3",
   "version": "3.8.16"
  }
 },
 "nbformat": 4,
 "nbformat_minor": 5
}
