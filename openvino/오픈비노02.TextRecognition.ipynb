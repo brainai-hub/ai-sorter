{
 "cells": [
  {
   "cell_type": "markdown",
   "id": "b6714767-cb88-475f-a29f-6ae77864d203",
   "metadata": {},
   "source": [
    "#### 아래 내용은 Intel® AI for Youth 프로그램을 참고하여\n",
    "BrainAI와 BrainAI Coach Network에서 개발한 내용입니다.<br> \n",
    "상업적 사용은 불가하며 교육기관 및 학교에서 학생들 교육활동에 자유롭게 사용가능합니다."
   ]
  },
  {
   "cell_type": "markdown",
   "id": "97d897a3-91e4-4f0d-88db-05ab5da8f7e4",
   "metadata": {},
   "source": [
    "# 프로젝트 제목: 텍스트 추출 테스트\n",
    "인텔 오픈비노(OpenVINO) 텍스트 추출 모델을 활용하여 이미지 또는 영상에서 텍스트를 추출하는 파이썬 프로그램 작성하기"
   ]
  },
  {
   "cell_type": "markdown",
   "id": "111464c1-135d-4cf2-a0d8-75eb4fbb2611",
   "metadata": {},
   "source": [
    "### Task 1. 필요 라이브러리 불러오기"
   ]
  },
  {
   "cell_type": "code",
   "execution_count": 7,
   "id": "6a11ef4a",
   "metadata": {},
   "outputs": [],
   "source": [
    "import cv2\n",
    "import time\n",
    " \n",
    "from utils import sorter_brain as sBrain"
   ]
  },
  {
   "cell_type": "markdown",
   "id": "821d7dce-f9fb-4b62-b06c-9ca71b806bd3",
   "metadata": {},
   "source": [
    "### Task 2. Main 함수 작성"
   ]
  },
  {
   "cell_type": "code",
   "execution_count": 8,
   "id": "429619a4-5b79-482e-8620-f6ae94e7edb9",
   "metadata": {},
   "outputs": [],
   "source": [
    "def Main():\n",
    "    \n",
    "    color = (0, 0, 255)\n",
    "    tic = time.time()\n",
    "      \n",
    "    video_capture = cv2.VideoCapture(video)\n",
    "    video_capture.set(cv2.CAP_PROP_BUFFERSIZE, 0)\n",
    "    \n",
    "    # ----- 오픈비노 텍스트 추출, 인식 모델 ----- #\n",
    "    text_model = sBrain.Text_Model()\n",
    "    words = []\n",
    "    # ----- ----- #\n",
    "    \n",
    "    while(True): \n",
    "        \n",
    "        grabbed, frame = video_capture.read()\n",
    "        if not grabbed:\n",
    "            break\n",
    "        \n",
    "        # ----- 오픈비노 텍스트 추출 및 인식 예측 ----- #\n",
    "        text_boxes, words = text_model.predictions(frame)           \n",
    "        if words:\n",
    "            text_model.draw(text_boxes, words, frame)  \n",
    "        # ----- ----- #\n",
    "           \n",
    "        key = cv2.waitKey(1);   \n",
    "        if key == ord('q'):\n",
    "                break\n",
    "                \n",
    "        cv2.imshow('BrainAI Text Recognition', frame)\n",
    "\n",
    "    video_capture.release()\n",
    "    cv2.destroyAllWindows()"
   ]
  },
  {
   "cell_type": "markdown",
   "id": "fe66f4c0-358e-48ea-a20d-0b03504a929f",
   "metadata": {},
   "source": [
    "### Task 3. 설정 값 변경 및 프로그램 실행"
   ]
  },
  {
   "cell_type": "code",
   "execution_count": 9,
   "id": "713a8331",
   "metadata": {
    "scrolled": true
   },
   "outputs": [
    {
     "name": "stdout",
     "output_type": "stream",
     "text": [
      "-- Models --\n",
      "Loading: horizontal-text-detection-0001\n",
      "Input layer shape: [1,3,704,704]\n",
      "Cannot print out layer shapes \n",
      "\n",
      "Loading: text-recognition-0014\n",
      "Input layer shape: [1,1,32,128]\n",
      "Output layer shape: [16,1,37] \n",
      "\n"
     ]
    },
    {
     "ename": "NameError",
     "evalue": "name 'sw' is not defined",
     "output_type": "error",
     "traceback": [
      "\u001b[1;31m---------------------------------------------------------------------------\u001b[0m",
      "\u001b[1;31mNameError\u001b[0m                                 Traceback (most recent call last)",
      "Cell \u001b[1;32mIn[9], line 5\u001b[0m\n\u001b[0;32m      2\u001b[0m video \u001b[38;5;241m=\u001b[39m \u001b[38;5;241m0\u001b[39m\n\u001b[0;32m      4\u001b[0m \u001b[38;5;28;01mif\u001b[39;00m \u001b[38;5;18m__name__\u001b[39m \u001b[38;5;241m==\u001b[39m \u001b[38;5;124m'\u001b[39m\u001b[38;5;124m__main__\u001b[39m\u001b[38;5;124m'\u001b[39m: \n\u001b[1;32m----> 5\u001b[0m     \u001b[43mMain\u001b[49m\u001b[43m(\u001b[49m\u001b[43m)\u001b[49m\n",
      "Cell \u001b[1;32mIn[8], line 34\u001b[0m, in \u001b[0;36mMain\u001b[1;34m()\u001b[0m\n\u001b[0;32m     32\u001b[0m video_capture\u001b[38;5;241m.\u001b[39mrelease()\n\u001b[0;32m     33\u001b[0m cv2\u001b[38;5;241m.\u001b[39mdestroyAllWindows()\n\u001b[1;32m---> 34\u001b[0m \u001b[43msw\u001b[49m\u001b[38;5;241m.\u001b[39mcloseSerial(ser, serial_on)\n",
      "\u001b[1;31mNameError\u001b[0m: name 'sw' is not defined"
     ]
    }
   ],
   "source": [
    "# 설정 값 변경 및 프로그램 실행\n",
    "video = 0\n",
    "\n",
    "if __name__ == '__main__': \n",
    "    Main()     "
   ]
  },
  {
   "cell_type": "code",
   "execution_count": null,
   "id": "44cc5306-cb54-49cf-bd80-372c67ab1072",
   "metadata": {},
   "outputs": [],
   "source": []
  }
 ],
 "metadata": {
  "kernelspec": {
   "display_name": "Python 3 (ipykernel)",
   "language": "python",
   "name": "python3"
  },
  "language_info": {
   "codemirror_mode": {
    "name": "ipython",
    "version": 3
   },
   "file_extension": ".py",
   "mimetype": "text/x-python",
   "name": "python",
   "nbconvert_exporter": "python",
   "pygments_lexer": "ipython3",
   "version": "3.8.16"
  }
 },
 "nbformat": 4,
 "nbformat_minor": 5
}
