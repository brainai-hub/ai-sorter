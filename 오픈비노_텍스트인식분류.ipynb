{
 "cells": [
  {
   "cell_type": "markdown",
   "id": "59929790-3fbc-46f6-978e-94b9c874c7a6",
   "metadata": {},
   "source": [
    "#### 아래 내용은 Intel® AI for Youth 프로그램을 참고하여\n",
    "BrainAI와 BrainAI Coach Network에서 개발한 내용입니다.<br> \n",
    "상업적 사용은 불가하며 교육기관 및 학교에서 학생들 교육활동에 자유롭게 사용가능합니다."
   ]
  },
  {
   "cell_type": "markdown",
   "id": "5127228d-91ec-48f3-bb7c-872abcc31096",
   "metadata": {},
   "source": [
    "# 프로젝트 제목: 텍스트 인식을 통한 분류 테스트\n",
    "인텔 오픈비노(OpenVINO) 텍스트 추출 및 인식 모델을 불러와 텍스트 인식 결과에 따라 분류하는 파이썬 프로그램 작성하기"
   ]
  },
  {
   "cell_type": "markdown",
   "id": "b8dfccb5-cc19-435c-a6df-e7bb5f11a9e8",
   "metadata": {},
   "source": [
    "### Task 1. 필요 라이브러리 불러오기"
   ]
  },
  {
   "cell_type": "code",
   "execution_count": 1,
   "id": "6a11ef4a",
   "metadata": {},
   "outputs": [],
   "source": [
    "import cv2\n",
    "import time\n",
    " \n",
    "from utils import sorter_brain as sBrain\n",
    "from utils import sorter_serial as sSerial"
   ]
  },
  {
   "cell_type": "markdown",
   "id": "e197d9f4-f9a4-46c7-9ac0-d7b23150d871",
   "metadata": {},
   "source": [
    "### Task 2. Main 함수 작성"
   ]
  },
  {
   "cell_type": "code",
   "execution_count": 2,
   "id": "429619a4-5b79-482e-8620-f6ae94e7edb9",
   "metadata": {},
   "outputs": [],
   "source": [
    "def Main():\n",
    "    \n",
    "    color = (0, 0, 255)\n",
    "    tic = time.time()\n",
    "      \n",
    "    video_capture = cv2.VideoCapture(video)\n",
    "    video_capture.set(cv2.CAP_PROP_BUFFERSIZE, 0)\n",
    "    \n",
    "    # ----- 오픈비노 텍스트 탐지 ----- #\n",
    "    text_model = sBrain.Text_Model()\n",
    "    words = []\n",
    "    wait = 3\n",
    "    # ---- 시리얼 통신 시작 ---- #\n",
    "    ser = sSerial.startSerial(serial_on) \n",
    "\n",
    "    while(True):         \n",
    "        grabbed, frame = video_capture.read()\n",
    "        if not grabbed:\n",
    "            break\n",
    "        \n",
    "        # ---- 모델 추론을 통한 텍스트 인식 예측  ----- #\n",
    "        text_boxes, words = text_model.predictions(frame)\n",
    "        cmd = 0 \n",
    "        if 'red' in words:\n",
    "            cmd = 1\n",
    "        elif 'orange' in words:\n",
    "            cmd = 2\n",
    "        elif 'yellow' in words:\n",
    "            cmd = 3\n",
    "        elif 'green' in words:\n",
    "            cmd = 4\n",
    "        elif 'blue' in words:\n",
    "            cmd = 5\n",
    "        elif 'brown' in words:\n",
    "            cmd = 6   \n",
    "\n",
    "        if time.time() - tic > wait:  \n",
    "            tic = time.time() \n",
    "            print('cmd:', cmd)\n",
    "            sSerial.SerialSendCommand(cmd, ser, serial_on)\n",
    "            \n",
    "        if words:\n",
    "            text_model.draw(text_boxes, words, frame) \n",
    "           \n",
    "        key = cv2.waitKey(1);   \n",
    "        if key == ord('q'):\n",
    "                break\n",
    "                \n",
    "        cv2.imshow('BrainAI MultiSorter with Text Recognition', frame)\n",
    "\n",
    "    video_capture.release()\n",
    "    cv2.destroyAllWindows()\n",
    "    sSerial.closeSerial(ser, serial_on)"
   ]
  },
  {
   "cell_type": "markdown",
   "id": "1b9799c8-d64f-4ef5-a230-28fb3ac5a983",
   "metadata": {},
   "source": [
    "### Task 3. 설정 값 변경 및 프로그램 실행"
   ]
  },
  {
   "cell_type": "code",
   "execution_count": 3,
   "id": "713a8331",
   "metadata": {
    "scrolled": true
   },
   "outputs": [
    {
     "name": "stdout",
     "output_type": "stream",
     "text": [
      "-- Models --\n",
      "Loading: horizontal-text-detection-0001\n",
      "Input layer shape: [1,3,704,704]\n",
      "Cannot print out layer shapes \n",
      "\n",
      "Loading: text-recognition-0014\n",
      "Input layer shape: [1,1,32,128]\n",
      "Output layer shape: [16,1,37] \n",
      "\n",
      "\n",
      "-- Microbit --\n",
      "Microbit USB detected:  COM3\n",
      "cmd: 0\n",
      "cmd: 0\n",
      "cmd: 0\n",
      "cmd: 4\n",
      "cmd: 4\n",
      "cmd: 0\n"
     ]
    }
   ],
   "source": [
    "video = 0 #노트북 built in 웹캠, 외부 연결 웹캠인 경우 1로 수정\n",
    "\n",
    "# 마이크로비트 없이 실행 가능: serial_on = False, 다중자동분류기 마이크로비트에 연결하여 작동시: serial_on = True\n",
    "serial_on = False\n",
    "\n",
    "if __name__ == '__main__': \n",
    "    Main()     "
   ]
  },
  {
   "cell_type": "code",
   "execution_count": null,
   "id": "9c26d298-0be2-4a1d-970d-b38feb7a4047",
   "metadata": {},
   "outputs": [],
   "source": []
  }
 ],
 "metadata": {
  "kernelspec": {
   "display_name": "Python 3 (ipykernel)",
   "language": "python",
   "name": "python3"
  },
  "language_info": {
   "codemirror_mode": {
    "name": "ipython",
    "version": 3
   },
   "file_extension": ".py",
   "mimetype": "text/x-python",
   "name": "python",
   "nbconvert_exporter": "python",
   "pygments_lexer": "ipython3",
   "version": "3.8.16"
  }
 },
 "nbformat": 4,
 "nbformat_minor": 5
}
