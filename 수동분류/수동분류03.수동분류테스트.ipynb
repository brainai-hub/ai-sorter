{
 "cells": [
  {
   "cell_type": "markdown",
   "metadata": {},
   "source": [
    "#### 아래 내용은 Intel® AI for Youth 프로그램을 참고하여\n",
    "BrainAI와 BrainAI Coach Network에서 개발한 내용입니다.<br> \n",
    "상업적 사용은 불가하며 교육기관 및 학교에서 학생들 교육활동에 자유롭게 사용가능합니다."
   ]
  },
  {
   "cell_type": "markdown",
   "metadata": {},
   "source": [
    "# 프로젝트 제목: 다중자동분류기 수동 분류 테스트\n",
    "다중자동분류기를 노트북 키보드를 이용하여 수동으로 분류하는 파이썬 프로그램 작성하기"
   ]
  },
  {
   "cell_type": "markdown",
   "metadata": {},
   "source": [
    "### Task 1. 필요 라이브러리 불러오기"
   ]
  },
  {
   "cell_type": "code",
   "execution_count": 1,
   "metadata": {},
   "outputs": [
    {
     "name": "stdout",
     "output_type": "stream",
     "text": [
      "프로젝트 수행에 필요한 라이브러리를 모두 불러왔습니다.\n"
     ]
    }
   ],
   "source": [
    "import cv2\n",
    "import serial\n",
    "import serial.tools.list_ports\n",
    "print(\"프로젝트 수행에 필요한 라이브러리를 모두 불러왔습니다.\")"
   ]
  },
  {
   "cell_type": "markdown",
   "metadata": {
    "tags": []
   },
   "source": [
    "### Task 2. 마이크로비트 연결 포트 자동 찾기 함수 작성"
   ]
  },
  {
   "cell_type": "code",
   "execution_count": 2,
   "metadata": {},
   "outputs": [],
   "source": [
    "def startSerial(serial_on):\n",
    "    ser = None\n",
    "    if serial_on == True:\n",
    "        ports = serial.tools.list_ports.comports()\n",
    "        com = ''\n",
    "        print('\\n -- Microbit --')\n",
    "        for port, desc, hwid in sorted(ports):\n",
    "            if 'USB' in desc:\n",
    "                com = port # 포트 값을 가져와 com변수에 저장\n",
    "        if com != '':\n",
    "            print('Microbit USB detected: ', com)\n",
    "            ser = serial.Serial(com, 115200 ,  # 마이크로비트 전송 속도와 일치\n",
    "                                timeout=0, \n",
    "                                parity=serial.PARITY_NONE, \n",
    "                                rtscts=0) \n",
    "        else:\n",
    "            print('No Microbit USB detected')\n",
    "    return ser"
   ]
  },
  {
   "cell_type": "markdown",
   "metadata": {
    "tags": []
   },
   "source": [
    "### Task 3. 마이크로비트에 시리얼 통신으로 명령 보내기 함수 작성\n",
    "마이크로비트 코드의 전송 속도(115200)를 확인한다."
   ]
  },
  {
   "cell_type": "code",
   "execution_count": 3,
   "metadata": {
    "tags": []
   },
   "outputs": [],
   "source": [
    "def SerialSendCommand(cmd, ser, serial_on):\n",
    "    if serial_on == True:  #serial 통신을 사용한다면\n",
    "        cmd = str(cmd) \n",
    "        cmd  = cmd + '\\n'\n",
    "        cmd = str.encode(cmd) \n",
    "        ser.write(cmd)"
   ]
  },
  {
   "cell_type": "markdown",
   "metadata": {},
   "source": [
    "### Task 4. Main 함수 작성"
   ]
  },
  {
   "cell_type": "code",
   "execution_count": 4,
   "metadata": {},
   "outputs": [],
   "source": [
    "def Main():\n",
    "    color  = (0, 0, 255)                       \n",
    "    text = \"Press [q] to quit\"                 \n",
    "    ser = startSerial(serial_on)\n",
    "    \n",
    "    video_capture = cv2.VideoCapture(video)\n",
    "    while(True):\n",
    "        grabbed, frame = video_capture.read()\n",
    "        frame = cv2.flip(frame, 1)\n",
    "        cv2.putText(frame, text, (50,50), cv2.FONT_HERSHEY_SIMPLEX, 1.5, color, 2)  \n",
    "        cv2.imshow(\"Original Flip Video\", frame) \n",
    "        \n",
    "        key = cv2.waitKey(1) \n",
    "        if key == ord(\"q\"):\n",
    "            break\n",
    "            \n",
    "        elif key != -1:  # key = cv2.waitKey(1)의 key 값 -1\n",
    "            cmd = chr(key)    \n",
    "            text = cmd        \n",
    "            SerialSendCommand(cmd, ser, serial_on)   \n",
    "    \n",
    "    if serial_on == True:\n",
    "        ser.close()\n",
    "        \n",
    "    video_capture.release()\n",
    "    cv2.destroyAllWindows()"
   ]
  },
  {
   "cell_type": "markdown",
   "metadata": {},
   "source": [
    "### Task 5. 설정 값 변경 및 프로그램 실행"
   ]
  },
  {
   "cell_type": "code",
   "execution_count": 8,
   "metadata": {},
   "outputs": [
    {
     "name": "stdout",
     "output_type": "stream",
     "text": [
      "\n",
      " -- Microbit --\n",
      "Microbit USB detected:  COM3\n",
      "Press [q] to quit\n"
     ]
    }
   ],
   "source": [
    "video = 0 #노트북 built in 웹캠, 외부 연결 웹캠인 경우 1로 수정\n",
    "\n",
    "# 마이크로비트 없이 실행 가능: serial_on = False, 다중자동분류기 마이크로비트에 연결하여 작동시: serial_on = True\n",
    "serial_on = True\n",
    "\n",
    "#---- 프로그램 실행 ----#\n",
    "if __name__ == '__main__': \n",
    "    Main()"
   ]
  }
 ],
 "metadata": {
  "kernelspec": {
   "display_name": "Python 3 (ipykernel)",
   "language": "python",
   "name": "python3"
  },
  "language_info": {
   "codemirror_mode": {
    "name": "ipython",
    "version": 3
   },
   "file_extension": ".py",
   "mimetype": "text/x-python",
   "name": "python",
   "nbconvert_exporter": "python",
   "pygments_lexer": "ipython3",
   "version": "3.8.16"
  }
 },
 "nbformat": 4,
 "nbformat_minor": 4
}
