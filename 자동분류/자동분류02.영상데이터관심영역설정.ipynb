{
 "cells": [
  {
   "cell_type": "markdown",
   "metadata": {},
   "source": [
    "#### 아래 내용은 Intel® AI for Youth 프로그램을 참고하여\n",
    "BrainAI와 BrainAI Coach Network에서 개발한 내용입니다.<br> \n",
    "상업적 사용은 불가하며 교육기관 및 학교에서 학생들 교육활동에 자유롭게 사용가능합니다."
   ]
  },
  {
   "cell_type": "markdown",
   "metadata": {},
   "source": [
    "# 프로젝트 제목: 새로운 영상 데이터(M&M 초콜릿)를 불러와 관심 영역을 설정하여 예측 테스트\n",
    "새로운 영상 데이터(M&M 초콜릿)를 불러와 관심 영역을 설정하여 Teachable Machine에서 개발한 모델을 활용하여 예측하는 파이썬 프로그램 작성하기"
   ]
  },
  {
   "cell_type": "markdown",
   "metadata": {},
   "source": [
    "### Task 1. 필요 라이브러리 불러오기"
   ]
  },
  {
   "cell_type": "code",
   "execution_count": 4,
   "metadata": {},
   "outputs": [
    {
     "name": "stdout",
     "output_type": "stream",
     "text": [
      "프로젝트 수행에 필요한 라이브러리를 모두 불러왔습니다.\n"
     ]
    }
   ],
   "source": [
    "import cv2\n",
    "import numpy as np\n",
    "import tensorflow.keras\n",
    "from tensorflow.keras.models import model_from_json\n",
    "print(\"프로젝트 수행에 필요한 라이브러리를 모두 불러왔습니다.\")"
   ]
  },
  {
   "cell_type": "markdown",
   "metadata": {
    "tags": []
   },
   "source": [
    "### Task 2. Teachable Machine에서 개발한 모델(model)과 클래스(label) 불러오기 함수 작성"
   ]
  },
  {
   "cell_type": "code",
   "execution_count": 5,
   "metadata": {},
   "outputs": [],
   "source": [
    "def loadModel(): \n",
    "    model = tensorflow.keras.models.load_model('model/keras_model.h5', compile = False) \n",
    "    labels = []\n",
    "    file = open(\"model/labels.txt\", \"r\")\n",
    "    for x in file:\n",
    "        labels.append(x.rstrip('\\n'))\n",
    "    print('labels = ', labels)\n",
    "    file.close()\n",
    "    return model, labels"
   ]
  },
  {
   "cell_type": "markdown",
   "metadata": {
    "tags": []
   },
   "source": [
    "### Task 3. 'Task 2.'함수 실행하여 결과 확인 하기"
   ]
  },
  {
   "cell_type": "code",
   "execution_count": 6,
   "metadata": {},
   "outputs": [
    {
     "name": "stdout",
     "output_type": "stream",
     "text": [
      "labels =  ['0 None', '1 Red', '2 Orange', '3 Yellow', '4 Green', '5 Blue', '6 Brown']\n"
     ]
    }
   ],
   "source": [
    "model, labels = loadModel()"
   ]
  },
  {
   "cell_type": "markdown",
   "metadata": {
    "tags": []
   },
   "source": [
    "### Task 4. 새로운 이미지 데이터(M&M 초콜릿) Color 예측하기 함수 작성"
   ]
  },
  {
   "cell_type": "code",
   "execution_count": 7,
   "metadata": {},
   "outputs": [],
   "source": [
    "def ReadPicture(cropped, model):   \n",
    "    \n",
    "    input_width = 224\n",
    "    input_height = 224\n",
    "\n",
    "    resized_image = cv2.resize(cropped, (input_width, input_height))\n",
    "    imgRGB =cv2.cvtColor(resized_image, cv2.COLOR_BGR2RGB)\n",
    "    \n",
    "    normalized_image = (imgRGB.astype(np.float32) / 127.0) - 1\n",
    "    batch = normalized_image.reshape(1, input_height, input_width, 3)\n",
    "\n",
    "    prediction = model.predict(batch) \n",
    "\n",
    "    class_id = np.argmax(prediction)\n",
    "    score = np.max(prediction) \n",
    "    \n",
    "    return class_id, score"
   ]
  },
  {
   "cell_type": "markdown",
   "metadata": {
    "tags": []
   },
   "source": [
    "### Task 5. 새로운 이미지 데이터(M&M 초콜릿) 불러와 Color 예측하기"
   ]
  },
  {
   "cell_type": "code",
   "execution_count": 8,
   "metadata": {},
   "outputs": [],
   "source": [
    "# 새로운 이미지 데이터 불러오기\n",
    "cropped = cv2.imread(\"images/green.jpg\")"
   ]
  },
  {
   "cell_type": "code",
   "execution_count": 9,
   "metadata": {},
   "outputs": [
    {
     "name": "stdout",
     "output_type": "stream",
     "text": [
      "Class: 4\n",
      "Confidence: 0.9999982\n",
      "AI 예측 결과는  Green 99%입니다\n"
     ]
    }
   ],
   "source": [
    "# 예측 실행하여 결과 저장하기\n",
    "class_id, score = ReadPicture(cropped, model)   \n",
    "print(\"Class:\", class_id)\n",
    "print(\"Confidence:\", score)\n",
    "\n",
    "# 결과 출력하기\n",
    "text = 'AI 예측 결과는  ' + labels[class_id][2:] + ' ' + str(int(score*100)) + '%' + '입니다' \n",
    "print(text)\n",
    "\n",
    "# 예측에 사용된 이미지 데이터 확인 하기\n",
    "cv2.imshow(\"Input Data\", cropped)\n",
    "cv2.waitKey(0)\n",
    "cv2.destroyAllWindows()"
   ]
  },
  {
   "cell_type": "markdown",
   "metadata": {
    "tags": []
   },
   "source": [
    "### Task 6. 새로운 영상 데이터(M&M 초콜릿) 불러와 Color 예측하기"
   ]
  },
  {
   "cell_type": "code",
   "execution_count": 10,
   "metadata": {},
   "outputs": [],
   "source": [
    "import time\n",
    "\n",
    "def Main():\n",
    "    video_capture = cv2.VideoCapture(video)\n",
    "    tic = time.time()\n",
    "    while(True):\n",
    "        grabbed, frame = video_capture.read()\n",
    "        frame = cv2.flip(frame, 1)\n",
    "        \n",
    "        if time.time() - tic > timeDelay: # 3초마다 예측 실행\n",
    "            # 예측 실행하여 결과 저장하기\n",
    "            class_id, score = ReadPicture(frame, model)   \n",
    "            print(\"Class:\", class_id)\n",
    "            print(\"Confidence:\", score)\n",
    "\n",
    "            # 결과 출력하기\n",
    "            text = 'AI 예측 결과는  ' + labels[class_id][2:] + ' ' + str(int(score*100)) + '%' + '입니다'\n",
    "            print(text)\n",
    "            tic = time.time()\n",
    "\n",
    "        cv2.imshow(\"Original Flip Video\", frame)\n",
    "        key = cv2.waitKey(1)\n",
    "        if key == ord(\"q\"):\n",
    "            break\n",
    "            \n",
    "    video_capture.release()\n",
    "    cv2.destroyAllWindows()"
   ]
  },
  {
   "cell_type": "code",
   "execution_count": 11,
   "metadata": {},
   "outputs": [
    {
     "name": "stdout",
     "output_type": "stream",
     "text": [
      "Class: 0\n",
      "Confidence: 0.5349415\n",
      "AI 예측 결과는  None 53%입니다\n"
     ]
    }
   ],
   "source": [
    "# 설정 값 변경 및 프로그램 실행\n",
    "video = 0 #노트북 built in 웹캠, 외부 연결 웹캠인 경우 1로 수정\n",
    "timeDelay = 3\n",
    "\n",
    "if __name__ == '__main__': \n",
    "    Main()"
   ]
  },
  {
   "cell_type": "markdown",
   "metadata": {
    "tags": []
   },
   "source": [
    "### Task 7. 새로운 영상 데이터(M&M 초콜릿) 관심 영역 설정하여 예측하기"
   ]
  },
  {
   "cell_type": "code",
   "execution_count": 18,
   "metadata": {},
   "outputs": [],
   "source": [
    "import time\n",
    "\n",
    "def Main():\n",
    "    video_capture = cv2.VideoCapture(video)\n",
    "    tic = time.time()\n",
    "    \n",
    "    # ---- 영상안에 p 눌러 시작하는 텍스트 출력 ---- #    \n",
    "    color  = (0, 0, 255)\n",
    "    text = \"Press [p] to start\"\n",
    "    print(text) \n",
    "        \n",
    "    # ---- 불러온 영상 크기 값 저장 ---- #    \n",
    "    height = video_capture.get(cv2.CAP_PROP_FRAME_HEIGHT)\n",
    "    width = video_capture.get(cv2.CAP_PROP_FRAME_WIDTH)\n",
    "    \n",
    "    # ---- 영상에서 매개 변수 top, bottom 값을 이용하여 관심 영역 설정 ---- #   \n",
    "    y1 = int(height - (height * top))\n",
    "    y2 = int(height - (height * bottom))\n",
    "    square = (y2-y1)/2\n",
    "    x1 = int(width/2 - square)\n",
    "    x2 = int(width/2 + square)\n",
    "    \n",
    "    # ---- MODE를 이용하여 실행, 멈춤을 컨트롤 ---- #\n",
    "    MODE_PAUSE = -1 \n",
    "    MODE_START = 0\n",
    "    mode_status = MODE_PAUSE\n",
    "    \n",
    "    while(True):\n",
    "        grabbed, frame = video_capture.read()\n",
    "        frame = cv2.flip(frame, 1)\n",
    "        \n",
    "        # ---- 관심 영역을 변수 cropped에 저장  ---- #\n",
    "        cropped = frame[y1:y2, x1:x2]\n",
    "        # ---- 관심 영역에 박스 그리기  ---- #\n",
    "        cv2.rectangle(frame, (x1,y1), (x2,y2), color, 2)\n",
    "        # ---- 관심 영역에 텍스트(text변수에 저장된 값) 출력 하기  ---- #\n",
    "        cv2.putText(frame, text, (50,50), cv2.FONT_HERSHEY_SIMPLEX, 1.5, color, 2)  \n",
    "        # ---- 모델을 활용한 예측 실행  ---- #\n",
    "        if mode_status == MODE_START and time.time() - tic > timeDelay: # 3초마다 예측 실행\n",
    "            cv2.imshow(\"cropped\", cropped)\n",
    "            # 예측 실행하여 결과 저장하기\n",
    "            class_id, score = ReadPicture(cropped, model)   \n",
    "            print(\"Class:\", class_id)\n",
    "            print(\"Confidence:\", score)\n",
    "\n",
    "            # 결과 출력하기\n",
    "            result_text = 'AI 예측 결과는  ' + labels[class_id][2:] + ' ' + str(int(score*100)) + '%' + '입니다'\n",
    "            print(result_text)\n",
    "            tic = time.time()\n",
    "\n",
    "        cv2.imshow(\"Original Flip Video\", frame)\n",
    "        key = cv2.waitKey(1)\n",
    "        if key == ord(\"q\"):\n",
    "            break\n",
    "            \n",
    "        # ---- 프로그램 실행 시작 또는 잠시 멈춤 설정(토글) ---- #\n",
    "        elif key == ord('p'):\n",
    "            if mode_status != MODE_PAUSE: \n",
    "                mode_status = MODE_PAUSE       \n",
    "                color = (0, 0, 255)\n",
    "                text = \"Press 'p' to start\"\n",
    "\n",
    "            elif mode_status == MODE_PAUSE:\n",
    "                mode_status = MODE_START\n",
    "                color = (0, 255, 0)\n",
    "                text = \"Press 'p' to pause\"\n",
    "    \n",
    "    video_capture.release()\n",
    "    cv2.destroyAllWindows()"
   ]
  },
  {
   "cell_type": "code",
   "execution_count": 19,
   "metadata": {},
   "outputs": [
    {
     "name": "stdout",
     "output_type": "stream",
     "text": [
      "Press [p] to start\n"
     ]
    }
   ],
   "source": [
    "# 설정 값 변경 및 프로그램 실행\n",
    "video = 0 #노트북 built in 웹캠, 외부 연결 웹캠인 경우 1로 수정\n",
    "timeDelay = 3\n",
    "\n",
    "#---- 관심 영역 설정 값 ----#\n",
    "top = .65            \n",
    "bottom = .25\n",
    "\n",
    "#---- 프로그램 실행 ----#\n",
    "if __name__ == '__main__': \n",
    "    Main()"
   ]
  },
  {
   "cell_type": "code",
   "execution_count": null,
   "metadata": {},
   "outputs": [],
   "source": []
  }
 ],
 "metadata": {
  "kernelspec": {
   "display_name": "Python 3 (ipykernel)",
   "language": "python",
   "name": "python3"
  },
  "language_info": {
   "codemirror_mode": {
    "name": "ipython",
    "version": 3
   },
   "file_extension": ".py",
   "mimetype": "text/x-python",
   "name": "python",
   "nbconvert_exporter": "python",
   "pygments_lexer": "ipython3",
   "version": "3.8.16"
  }
 },
 "nbformat": 4,
 "nbformat_minor": 4
}
