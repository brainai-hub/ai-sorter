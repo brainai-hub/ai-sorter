{
 "cells": [
  {
   "cell_type": "markdown",
   "metadata": {},
   "source": [
    "#### 아래 내용은 Intel® AI for Youth 프로그램을 참고하여\n",
    "BrainAI와 BrainAI Coach Network에서 개발한 내용입니다.<br> \n",
    "상업적 사용은 불가하며 교육기관 및 학교에서 학생들 교육활동에 자유롭게 사용가능합니다."
   ]
  },
  {
   "cell_type": "markdown",
   "metadata": {},
   "source": [
    "# 프로젝트 제목: 새로운 이미지 및 영상 데이터(M&M 초콜릿) 예측 테스트\n",
    "새로운 이미지 및 영상 데이터(M&M 초콜릿)를 불러와 Teachable Machine에서 개발한 모델을 활용하여 예측하는 파이썬 프로그램 작성하기"
   ]
  },
  {
   "cell_type": "markdown",
   "metadata": {},
   "source": [
    "### Task 1. 필요 라이브러리 불러오기"
   ]
  },
  {
   "cell_type": "code",
   "execution_count": null,
   "metadata": {},
   "outputs": [],
   "source": [
    "import cv2\n",
    "import numpy as np\n",
    "import tensorflow.keras\n",
    "from tensorflow.keras.models import model_from_json\n",
    "print(\"프로젝트 수행에 필요한 라이브러리를 모두 불러왔습니다.\")"
   ]
  },
  {
   "cell_type": "markdown",
   "metadata": {
    "tags": []
   },
   "source": [
    "### Task 2. Teachable Machine에서 개발한 모델(model)과 클래스(label) 불러오기 함수 작성"
   ]
  },
  {
   "cell_type": "code",
   "execution_count": null,
   "metadata": {},
   "outputs": [],
   "source": [
    "def loadModel(): \n",
    "    model = tensorflow.keras.models.load_model('model/keras_model.h5', compile = False) \n",
    "    labels = []\n",
    "    file = open(\"model/labels.txt\", \"r\")\n",
    "    for x in file:\n",
    "        labels.append(x.rstrip('\\n'))\n",
    "    print('labels = ', labels)\n",
    "    file.close()\n",
    "    return model, labels"
   ]
  },
  {
   "cell_type": "markdown",
   "metadata": {
    "tags": []
   },
   "source": [
    "### Task 3. 'Task 2.'함수 실행하여 결과 확인 하기"
   ]
  },
  {
   "cell_type": "code",
   "execution_count": null,
   "metadata": {},
   "outputs": [],
   "source": [
    "model, labels = loadModel()"
   ]
  },
  {
   "cell_type": "markdown",
   "metadata": {
    "tags": []
   },
   "source": [
    "### Task 4. 새로운 이미지 데이터(M&M 초콜릿) Color 예측하기 함수 작성"
   ]
  },
  {
   "cell_type": "code",
   "execution_count": null,
   "metadata": {},
   "outputs": [],
   "source": [
    "def ReadPicture(cropped, model):   \n",
    "    \n",
    "    input_width = 224\n",
    "    input_height = 224\n",
    "\n",
    "    resized_image = cv2.resize(cropped, (input_width, input_height))\n",
    "    imgRGB =cv2.cvtColor(resized_image, cv2.COLOR_BGR2RGB)\n",
    "    \n",
    "    normalized_image = (imgRGB.astype(np.float32) / 127.0) - 1\n",
    "    batch = normalized_image.reshape(1, input_height, input_width, 3)\n",
    "\n",
    "    prediction = model.predict(batch) \n",
    "\n",
    "    class_id = np.argmax(prediction)\n",
    "    score = np.max(prediction) \n",
    "    \n",
    "    return class_id, score"
   ]
  },
  {
   "cell_type": "markdown",
   "metadata": {
    "tags": []
   },
   "source": [
    "### Task 5. 새로운 이미지 데이터(M&M 초콜릿) 불러와 Color 예측하기"
   ]
  },
  {
   "cell_type": "code",
   "execution_count": null,
   "metadata": {},
   "outputs": [],
   "source": [
    "# 새로운 이미지 데이터 불러오기\n",
    "cropped = cv2.imread(\"images/green.jpg\")"
   ]
  },
  {
   "cell_type": "code",
   "execution_count": null,
   "metadata": {},
   "outputs": [],
   "source": [
    "# 예측 실행하여 결과 저장하기\n",
    "class_id, score = ReadPicture(cropped, model)   \n",
    "print(\"Class:\", class_id)\n",
    "print(\"Confidence:\", score)\n",
    "\n",
    "# 결과 출력하기\n",
    "text = 'AI 예측 결과는  ' + labels[class_id][2:] + ' ' + str(int(score*100)) + '%' + '입니다' \n",
    "print(text)\n",
    "\n",
    "# 예측에 사용된 이미지 데이터 확인 하기\n",
    "cv2.imshow(\"Input Data\", cropped)\n",
    "cv2.waitKey(0)\n",
    "cv2.destroyAllWindows()"
   ]
  },
  {
   "cell_type": "markdown",
   "metadata": {
    "tags": []
   },
   "source": [
    "### Task 6. 새로운 영상 데이터(M&M 초콜릿) 불러와 Color 예측하기"
   ]
  },
  {
   "cell_type": "code",
   "execution_count": null,
   "metadata": {},
   "outputs": [],
   "source": [
    "import time\n",
    "\n",
    "def Main():\n",
    "    video_capture = cv2.VideoCapture(video)\n",
    "    tic = time.time()\n",
    "    while(True):\n",
    "        grabbed, frame = video_capture.read()\n",
    "        frame = cv2.flip(frame, 1)\n",
    "        \n",
    "        if time.time() - tic > timeDelay: # 3초마다 예측 실행\n",
    "            # 예측 실행하여 결과 저장하기\n",
    "            class_id, score = ReadPicture(frame, model)   \n",
    "            print(\"Class:\", class_id)\n",
    "            print(\"Confidence:\", score)\n",
    "\n",
    "            # 결과 출력하기\n",
    "            text = 'AI 예측 결과는  ' + labels[class_id][2:] + ' ' + str(int(score*100)) + '%' + '입니다'\n",
    "            print(text)\n",
    "            tic = time.time()\n",
    "\n",
    "        cv2.imshow(\"Original Flip Video\", frame)\n",
    "        key = cv2.waitKey(1)\n",
    "        if key == ord(\"q\"):\n",
    "            break\n",
    "            \n",
    "    video_capture.release()\n",
    "    cv2.destroyAllWindows()"
   ]
  },
  {
   "cell_type": "code",
   "execution_count": null,
   "metadata": {},
   "outputs": [],
   "source": [
    "video = 0 #노트북 built in 웹캠, 외부 연결 웹캠인 경우 1로 수정\n",
    "timeDelay = 3\n",
    "\n",
    "#---- 프로그램 실행 ----#\n",
    "if __name__ == '__main__': \n",
    "    Main()"
   ]
  }
 ],
 "metadata": {
  "kernelspec": {
   "display_name": "Python 3 (ipykernel)",
   "language": "python",
   "name": "python3"
  },
  "language_info": {
   "codemirror_mode": {
    "name": "ipython",
    "version": 3
   },
   "file_extension": ".py",
   "mimetype": "text/x-python",
   "name": "python",
   "nbconvert_exporter": "python",
   "pygments_lexer": "ipython3",
   "version": "3.8.16"
  }
 },
 "nbformat": 4,
 "nbformat_minor": 4
}
